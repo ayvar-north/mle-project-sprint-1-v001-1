{
 "cells": [
  {
   "cell_type": "code",
   "execution_count": null,
   "metadata": {},
   "outputs": [],
   "source": [
    "def remove_duplicates(data):\n",
    "    feature_cols = data.columns.drop('flat_id').tolist()\n",
    "    is_duplicated_features = data.duplicated(subset=feature_cols, keep=False)\n",
    "    data = data[~is_duplicated_features].reset_index(drop=True)\n",
    "    return data"
   ]
  },
  {
   "cell_type": "code",
   "execution_count": null,
   "metadata": {},
   "outputs": [],
   "source": [
    "def fill_missing_values(data):\n",
    "    cols_with_nans = data.isnull().sum()\n",
    "    cols_with_nans = cols_with_nans[cols_with_nans > 0].index\n",
    "\n",
    "    if len(cols_with_nans) != 0:\n",
    "        for col in cols_with_nans:\n",
    "            if data[col].dtype in [float, int]:\n",
    "                fill_value = data[col].mean()\n",
    "            elif data[col].dtype == 'object':\n",
    "                fill_value = data[col].mode().iloc[0]\n",
    "            data[col] = data[col].fillna(fill_value)\n",
    "\n",
    "    return data"
   ]
  },
  {
   "cell_type": "code",
   "execution_count": null,
   "metadata": {},
   "outputs": [],
   "source": [
    "def remove_outliers(data):\n",
    "    num_cols = data.select_dtypes(['float', 'int']).columns\n",
    "    threshold = 1.5\n",
    "    potential_outliers = pd.DataFrame()\n",
    "\n",
    "    for col in num_cols:\n",
    "        Q1 = data[col].quantile(q=0.25, interpolation='linear')\n",
    "        Q3 = data[col].quantile(q=0.75, interpolation='linear')\n",
    "        IQR = Q3 - Q1 \n",
    "        margin = threshold*IQR\n",
    "        lower = Q1 - margin\n",
    "        upper = Q3 + margin\n",
    "        potential_outliers[col] = ~data[col].between(lower, upper)\n",
    "\n",
    "    outliers = potential_outliers.any(axis=1)\n",
    "    return data.loc[~outliers, :]"
   ]
  }
 ],
 "metadata": {
  "language_info": {
   "name": "python"
  }
 },
 "nbformat": 4,
 "nbformat_minor": 2
}
